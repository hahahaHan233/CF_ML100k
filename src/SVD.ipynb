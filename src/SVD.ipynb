{
 "cells": [
  {
   "cell_type": "markdown",
   "source": [
    "# SVD\n",
    "\n",
    "- For the training process, user-item interaction matrix with missing value would be filled with mean rating of user."
   ],
   "metadata": {
    "collapsed": false
   }
  },
  {
   "cell_type": "code",
   "execution_count": 6,
   "outputs": [
    {
     "name": "stdout",
     "output_type": "stream",
     "text": [
      "(943, 10)\n",
      "(10, 1682)\n",
      "[  26.83057367   26.96800995   28.60706748   29.62950085   30.17979715\n",
      "   31.6563303    33.61237247   41.47937465   54.23470322 4555.66003329]\n",
      "Test RMSE: 1.0163891510512737\n"
     ]
    }
   ],
   "source": [
    "import numpy as np\n",
    "import pandas as pd\n",
    "from scipy.sparse import csr_matrix\n",
    "from scipy.sparse.linalg import svds\n",
    "from sklearn.metrics import mean_squared_error\n",
    "from torch.utils.data import DataLoader\n",
    "import torch\n",
    "import yaml\n",
    "\n",
    "import dataset\n",
    "import utils\n",
    "\n",
    "# Load configuration\n",
    "config_path = '../config/config.yaml'\n",
    "config = utils.load_config(config_path)\n",
    "\n",
    "train_path = config['data_config']['train_path']\n",
    "test_path = config['data_config']['test_path']\n",
    "num_users = config['data_config']['num_users']\n",
    "num_items = config['data_config']['num_items']\n",
    "\n",
    "def load_data_to_matrix(dataset, num_users, num_items):\n",
    "    \"\"\" Convert MovieLens dataset to a sparse matrix using the reindexed user and item IDs \"\"\"\n",
    "    rows, cols, data = [], [], []\n",
    "\n",
    "    for idx in range(len(dataset)):\n",
    "        user_idx, item_idx, rating = dataset[idx]\n",
    "        rows.append(user_idx.item() - 1)\n",
    "        cols.append(item_idx.item() - 1)\n",
    "        data.append(rating.item())\n",
    "\n",
    "    return csr_matrix((data, (rows, cols)), shape=(num_users, num_items))\n",
    "\n",
    "def fill_missing_with_user_means(matrix):\n",
    "    \"\"\" Fill missing values with user means \"\"\"\n",
    "    user_means = np.array(matrix.sum(axis=1)).flatten() / np.maximum(matrix.getnnz(axis=1), 1)\n",
    "\n",
    "    matrix_filled = matrix.toarray()\n",
    "    for i in range(matrix_filled.shape[0]):\n",
    "        matrix_filled[i, matrix_filled[i, :] == 0] = user_means[i]\n",
    "\n",
    "    return csr_matrix(matrix_filled)\n",
    "\n",
    "# Load datasets\n",
    "train_dataset = dataset.MovieLensDataset(data_path=train_path)\n",
    "test_dataset = dataset.MovieLensDataset(data_path=test_path)\n",
    "\n",
    "train_loader = DataLoader(train_dataset, batch_size=None, shuffle=False)\n",
    "test_loader = DataLoader(test_dataset, batch_size=None, shuffle=False)\n",
    "\n",
    "# Load data to matrices\n",
    "train_matrix = load_data_to_matrix(train_dataset, num_users, num_items)\n",
    "test_matrix = load_data_to_matrix(test_dataset, num_users, num_items)\n",
    "\n",
    "# Fill missing values in the training matrix with user means\n",
    "train_matrix_filled = fill_missing_with_user_means(train_matrix)\n",
    "\n",
    "# Perform SVD on the filled training matrix\n",
    "k = 10  # Increase the number of latent factors\n",
    "U, sigma, Vt = svds(train_matrix_filled, k=k)\n",
    "print(U.shape)\n",
    "print(Vt.shape)\n",
    "print(sigma)\n",
    "sigma = np.diag(sigma)\n",
    "\n",
    "# Predict ratings\n",
    "all_user_predicted_ratings = np.dot(np.dot(U, sigma), Vt)\n",
    "\n",
    "# Evaluate the model on the test matrix\n",
    "test_nonzero = test_matrix.nonzero()\n",
    "test_actual = test_matrix[test_nonzero].A1\n",
    "test_predictions = all_user_predicted_ratings[test_nonzero].flatten()\n",
    "\n",
    "rmse = np.sqrt(mean_squared_error(test_actual, test_predictions))\n",
    "print(f'Test RMSE: {rmse}')\n"
   ],
   "metadata": {
    "collapsed": false
   }
  },
  {
   "cell_type": "code",
   "execution_count": null,
   "outputs": [],
   "source": [],
   "metadata": {
    "collapsed": false
   }
  }
 ],
 "metadata": {
  "kernelspec": {
   "display_name": "Python 3",
   "language": "python",
   "name": "python3"
  },
  "language_info": {
   "codemirror_mode": {
    "name": "ipython",
    "version": 2
   },
   "file_extension": ".py",
   "mimetype": "text/x-python",
   "name": "python",
   "nbconvert_exporter": "python",
   "pygments_lexer": "ipython2",
   "version": "2.7.6"
  }
 },
 "nbformat": 4,
 "nbformat_minor": 0
}
