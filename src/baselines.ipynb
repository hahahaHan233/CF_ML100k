{
 "cells": [
  {
   "cell_type": "markdown",
   "source": [
    "# SVD"
   ],
   "metadata": {
    "collapsed": false
   }
  },
  {
   "cell_type": "code",
   "execution_count": 6,
   "metadata": {
    "collapsed": true
   },
   "outputs": [
    {
     "name": "stdout",
     "output_type": "stream",
     "text": [
      "(943, 4)\n",
      "(4, 1682)\n",
      "[137.38630633 182.96028336 207.15151185 525.77314725]\n",
      "Test RMSE: 2.971723570289332\n"
     ]
    }
   ],
   "source": [
    "import numpy as np\n",
    "import pandas as pd\n",
    "from scipy.sparse import csr_matrix\n",
    "from scipy.sparse.linalg import svds\n",
    "from sklearn.metrics import mean_squared_error\n",
    "from torch.utils.data import DataLoader\n",
    "import torch\n",
    "import yaml\n",
    "\n",
    "import dataset\n",
    "import utils\n",
    "\n",
    "config_path = '../config/config.yaml'\n",
    "config = utils.load_config(config_path)\n",
    "\n",
    "train_path = config['data_config']['train_path']\n",
    "test_path = config['data_config']['test_path']\n",
    "num_users = config['data_config']['num_users']\n",
    "num_items = config['data_config']['num_items']\n",
    "\n",
    "\n",
    "def load_data_to_matrix(dataset):\n",
    "    \"\"\" Convert MovieLens dataset to a sparse matrix using the reindexed user and item IDs \"\"\"\n",
    "\n",
    "    # Create lists for rows, cols, and data to build the sparse matrix\n",
    "    rows = []\n",
    "    cols = []\n",
    "    data = []\n",
    "\n",
    "    for idx in range(len(dataset)):\n",
    "        user_idx, item_idx, rating = dataset[idx]\n",
    "\n",
    "        rows.append(user_idx.item() - 1)\n",
    "        cols.append(item_idx.item() - 1)\n",
    "        data.append(rating.item())\n",
    "\n",
    "    # Build the ratings matrix as a CSR matrix\n",
    "    return csr_matrix((data, (rows, cols)), shape=(num_users, num_items))\n",
    "\n",
    "\n",
    "train_dataset = dataset.MovieLensDataset(data_path=train_path)\n",
    "test_dataset = dataset.MovieLensDataset(data_path=test_path)\n",
    "\n",
    "train_loader = DataLoader(train_dataset, batch_size=None, shuffle=False)\n",
    "test_loader = DataLoader(test_dataset, batch_size=None, shuffle=False)\n",
    "\n",
    "# Load data to matrices\n",
    "train_matrix = load_data_to_matrix(train_dataset)\n",
    "test_matrix = load_data_to_matrix(test_dataset)\n",
    "\n",
    "# Perform SVD\n",
    "U, sigma, Vt = svds(train_matrix, k=4)  # k is the number of latent factors\n",
    "print(U.shape)\n",
    "print(Vt.shape)\n",
    "print(sigma)\n",
    "sigma = np.diag(sigma)\n",
    "\n",
    "# Predict ratings\n",
    "all_user_predicted_ratings = np.dot(np.dot(U, sigma), Vt)\n",
    "\n",
    "# Evaluate the model\n",
    "test_nonzero = test_matrix.nonzero()\n",
    "test_actual = test_matrix[test_nonzero].A1\n",
    "test_predictions = all_user_predicted_ratings[test_nonzero].flatten()\n",
    "\n",
    "rmse = np.sqrt(mean_squared_error(test_actual, test_predictions))\n",
    "print(f'Test RMSE: {rmse}')\n"
   ]
  }
 ],
 "metadata": {
  "kernelspec": {
   "display_name": "Python 3",
   "language": "python",
   "name": "python3"
  },
  "language_info": {
   "codemirror_mode": {
    "name": "ipython",
    "version": 2
   },
   "file_extension": ".py",
   "mimetype": "text/x-python",
   "name": "python",
   "nbconvert_exporter": "python",
   "pygments_lexer": "ipython2",
   "version": "2.7.6"
  }
 },
 "nbformat": 4,
 "nbformat_minor": 0
}
